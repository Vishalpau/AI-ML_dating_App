{
 "cells": [
  {
   "cell_type": "code",
   "execution_count": 4,
   "metadata": {
    "id": "qBhxvCYQMm0x"
   },
   "outputs": [],
   "source": [
    "## Importing Libraries\n",
    "import requests\n",
    "import pandas as pd\n",
    "import time\n",
    "import random\n",
    "import re\n",
    "import numpy as np\n",
    "import _pickle as pickle\n",
    "from tqdm import tqdm_notebook as tqdm\n",
    "from bs4 import BeautifulSoup as bs\n",
    "pd.set_option('display.max_colwidth', 500)\n",
    "import matplotlib.pyplot as plt\n",
    "import seaborn as sns\n",
    "from nltk.stem import WordNetLemmatizer\n",
    "from nltk import FreqDist\n",
    "from nltk.corpus import stopwords\n",
    "from nltk.collocations import BigramAssocMeasures, BigramCollocationFinder\n",
    "from sklearn.feature_extraction.text import TfidfVectorizer, CountVectorizer\n",
    "from sklearn.cluster import KMeans, AgglomerativeClustering\n",
    "from sklearn.metrics import silhouette_score, davies_bouldin_score\n",
    "from sklearn.preprocessing import MinMaxScaler"
   ]
  },
  {
   "cell_type": "code",
   "execution_count": 5,
   "metadata": {
    "colab": {
     "base_uri": "https://localhost:8080/",
     "height": 204
    },
    "id": "wDUD1dfHNGey",
    "outputId": "8bbb9ece-a627-423e-dbcb-34d5df9d6cee"
   },
   "outputs": [
    {
     "data": {
      "text/html": [
       "<div>\n",
       "<style scoped>\n",
       "    .dataframe tbody tr th:only-of-type {\n",
       "        vertical-align: middle;\n",
       "    }\n",
       "\n",
       "    .dataframe tbody tr th {\n",
       "        vertical-align: top;\n",
       "    }\n",
       "\n",
       "    .dataframe thead th {\n",
       "        text-align: right;\n",
       "    }\n",
       "</style>\n",
       "<table border=\"1\" class=\"dataframe\">\n",
       "  <thead>\n",
       "    <tr style=\"text-align: right;\">\n",
       "      <th></th>\n",
       "      <th>Bios</th>\n",
       "    </tr>\n",
       "  </thead>\n",
       "  <tbody>\n",
       "    <tr>\n",
       "      <th>0</th>\n",
       "      <td>Problem solver. Award-winning bacon junkie. Professional travel expert. Web evangelist. Avid internet fan.</td>\n",
       "    </tr>\n",
       "    <tr>\n",
       "      <th>1</th>\n",
       "      <td>Internet maven. Proud coffee advocate. Beer guru. Avid web expert. Food aficionado.</td>\n",
       "    </tr>\n",
       "    <tr>\n",
       "      <th>2</th>\n",
       "      <td>Music scholar. Communicator. Entrepreneur. Analyst. Proud creator. Freelance zombie fanatic. Friendly travel maven.</td>\n",
       "    </tr>\n",
       "    <tr>\n",
       "      <th>3</th>\n",
       "      <td>Analyst. Food fan. Incurable communicator. Coffee aficionado. Music expert. Beer specialist.</td>\n",
       "    </tr>\n",
       "    <tr>\n",
       "      <th>4</th>\n",
       "      <td>Proud bacon buff. Zombie practitioner. Analyst. Freelance musicaholic. Thinker. Coffee maven.</td>\n",
       "    </tr>\n",
       "  </tbody>\n",
       "</table>\n",
       "</div>"
      ],
      "text/plain": [
       "                                                                                                                  Bios\n",
       "0           Problem solver. Award-winning bacon junkie. Professional travel expert. Web evangelist. Avid internet fan.\n",
       "1                                  Internet maven. Proud coffee advocate. Beer guru. Avid web expert. Food aficionado.\n",
       "2  Music scholar. Communicator. Entrepreneur. Analyst. Proud creator. Freelance zombie fanatic. Friendly travel maven.\n",
       "3                         Analyst. Food fan. Incurable communicator. Coffee aficionado. Music expert. Beer specialist.\n",
       "4                        Proud bacon buff. Zombie practitioner. Analyst. Freelance musicaholic. Thinker. Coffee maven."
      ]
     },
     "execution_count": 5,
     "metadata": {
      "tags": []
     },
     "output_type": "execute_result"
    }
   ],
   "source": [
    "#scraping the data from website using BeautifulSoup\n",
    "\n",
    "biolist = []\n",
    "page = requests.get(\"https://www.fakepersongenerator.com/user-biography-generator\")\n",
    "soup = bs(page.content)\n",
    "bios = soup.find('div', class_='row no-margin for-sign').find_all('p')\n",
    "biolist.extend([re.findall('\"([^\"]*)\"', i.text) for i in bios])\n",
    "  \n",
    "# Creating a df from the bio list\n",
    "bio_df = pd.DataFrame(biolist, columns=['Bios'])\n",
    "bio_df.head()"
   ]
  },
  {
   "cell_type": "code",
   "execution_count": 6,
   "metadata": {
    "colab": {
     "base_uri": "https://localhost:8080/"
    },
    "id": "Z-G5GWHrNsWY",
    "outputId": "ed96ca6e-d9f1-4a08-adaf-200b2c94dd37"
   },
   "outputs": [
    {
     "data": {
      "text/plain": [
       "(15, 1)"
      ]
     },
     "execution_count": 6,
     "metadata": {
      "tags": []
     },
     "output_type": "execute_result"
    }
   ],
   "source": [
    "bio_df.shape"
   ]
  },
  {
   "cell_type": "code",
   "execution_count": 7,
   "metadata": {
    "id": "URCP93dvNsS9"
   },
   "outputs": [],
   "source": [
    "#Adding attributes\n",
    "qs = ['Movies','TV','Religion','Music','Sports','Books','Politics']\n",
    "\n",
    "# Creating a df of the categories\n",
    "topic_df = pd.DataFrame(columns=qs)\n",
    "\n",
    "# Filling in Data\n",
    "for i in topic_df.columns:\n",
    "    \n",
    "    # Range of numbers to represent different labels in each category\n",
    "    topic_df[i] = np.random.randint(0,10, bio_df.shape[0])\n",
    "\n",
    "# Joining df\n",
    "final_df = bio_df.join(topic_df)\n",
    "\n",
    "with open(\"profiles.pkl\", \"wb\") as fp:\n",
    "    pickle.dump(final_df, fp)"
   ]
  },
  {
   "cell_type": "code",
   "execution_count": 8,
   "metadata": {
    "colab": {
     "base_uri": "https://localhost:8080/",
     "height": 241
    },
    "id": "YAwkvi7PNsQD",
    "outputId": "43f5fabc-4550-438b-c23e-dec9c7f69b7c"
   },
   "outputs": [
    {
     "data": {
      "text/html": [
       "<div>\n",
       "<style scoped>\n",
       "    .dataframe tbody tr th:only-of-type {\n",
       "        vertical-align: middle;\n",
       "    }\n",
       "\n",
       "    .dataframe tbody tr th {\n",
       "        vertical-align: top;\n",
       "    }\n",
       "\n",
       "    .dataframe thead th {\n",
       "        text-align: right;\n",
       "    }\n",
       "</style>\n",
       "<table border=\"1\" class=\"dataframe\">\n",
       "  <thead>\n",
       "    <tr style=\"text-align: right;\">\n",
       "      <th></th>\n",
       "      <th>Bios</th>\n",
       "      <th>Movies</th>\n",
       "      <th>TV</th>\n",
       "      <th>Religion</th>\n",
       "      <th>Music</th>\n",
       "      <th>Sports</th>\n",
       "      <th>Books</th>\n",
       "      <th>Politics</th>\n",
       "      <th>gender</th>\n",
       "    </tr>\n",
       "  </thead>\n",
       "  <tbody>\n",
       "    <tr>\n",
       "      <th>0</th>\n",
       "      <td>Problem solver. Award-winning bacon junkie. Professional travel expert. Web evangelist. Avid internet fan.</td>\n",
       "      <td>6</td>\n",
       "      <td>7</td>\n",
       "      <td>6</td>\n",
       "      <td>5</td>\n",
       "      <td>3</td>\n",
       "      <td>3</td>\n",
       "      <td>2</td>\n",
       "      <td>0</td>\n",
       "    </tr>\n",
       "    <tr>\n",
       "      <th>1</th>\n",
       "      <td>Internet maven. Proud coffee advocate. Beer guru. Avid web expert. Food aficionado.</td>\n",
       "      <td>0</td>\n",
       "      <td>2</td>\n",
       "      <td>8</td>\n",
       "      <td>9</td>\n",
       "      <td>6</td>\n",
       "      <td>8</td>\n",
       "      <td>2</td>\n",
       "      <td>0</td>\n",
       "    </tr>\n",
       "    <tr>\n",
       "      <th>2</th>\n",
       "      <td>Music scholar. Communicator. Entrepreneur. Analyst. Proud creator. Freelance zombie fanatic. Friendly travel maven.</td>\n",
       "      <td>6</td>\n",
       "      <td>4</td>\n",
       "      <td>1</td>\n",
       "      <td>6</td>\n",
       "      <td>6</td>\n",
       "      <td>2</td>\n",
       "      <td>1</td>\n",
       "      <td>1</td>\n",
       "    </tr>\n",
       "    <tr>\n",
       "      <th>3</th>\n",
       "      <td>Analyst. Food fan. Incurable communicator. Coffee aficionado. Music expert. Beer specialist.</td>\n",
       "      <td>4</td>\n",
       "      <td>6</td>\n",
       "      <td>4</td>\n",
       "      <td>3</td>\n",
       "      <td>1</td>\n",
       "      <td>6</td>\n",
       "      <td>7</td>\n",
       "      <td>1</td>\n",
       "    </tr>\n",
       "  </tbody>\n",
       "</table>\n",
       "</div>"
      ],
      "text/plain": [
       "                                                                                                                  Bios  ...  gender\n",
       "0           Problem solver. Award-winning bacon junkie. Professional travel expert. Web evangelist. Avid internet fan.  ...       0\n",
       "1                                  Internet maven. Proud coffee advocate. Beer guru. Avid web expert. Food aficionado.  ...       0\n",
       "2  Music scholar. Communicator. Entrepreneur. Analyst. Proud creator. Freelance zombie fanatic. Friendly travel maven.  ...       1\n",
       "3                         Analyst. Food fan. Incurable communicator. Coffee aficionado. Music expert. Beer specialist.  ...       1\n",
       "\n",
       "[4 rows x 9 columns]"
      ]
     },
     "execution_count": 8,
     "metadata": {
      "tags": []
     },
     "output_type": "execute_result"
    }
   ],
   "source": [
    "final_df = final_df[:4]\n",
    "final_df['gender'] = [0 if x<2 else 1 for x in range(len(final_df))]\n",
    "final_df.head()"
   ]
  },
  {
   "cell_type": "code",
   "execution_count": 9,
   "metadata": {
    "colab": {
     "base_uri": "https://localhost:8080/"
    },
    "id": "HnRIGnz1NsM1",
    "outputId": "9fc0a85f-7298-43a0-a872-2c7947a31f25"
   },
   "outputs": [
    {
     "data": {
      "text/plain": [
       "1    2\n",
       "0    2\n",
       "Name: gender, dtype: int64"
      ]
     },
     "execution_count": 9,
     "metadata": {
      "tags": []
     },
     "output_type": "execute_result"
    }
   ],
   "source": [
    "# 0 represent male and 1 female\n",
    "final_df['gender'].value_counts() #"
   ]
  },
  {
   "cell_type": "code",
   "execution_count": 10,
   "metadata": {
    "id": "YDsjmECMNsJq"
   },
   "outputs": [],
   "source": [
    "lemmatizer = WordNetLemmatizer()\n",
    "\n",
    "# Tokenizing Function\n",
    "def tokenize(text):\n",
    "\n",
    "    # Creating a library of stopwords\n",
    "    stops = stopwords.words('english')\n",
    "    \n",
    "    # Lowercasing the words\n",
    "    text = text.lower()\n",
    "    \n",
    "    # Removing the punctuations (periods)\n",
    "    text = text.replace('.', '')\n",
    "    \n",
    "    # Splitting on spaces between words\n",
    "    text = text.split(' ')\n",
    "    \n",
    "    # Lemmatizing the words and removing stop words\n",
    "    text = [lemmatizer.lemmatize(i) for i in text if i not in stops]\n",
    "    \n",
    "    return text\n",
    "  \n",
    "# final_df['Bios'] = final_df.Bios.apply(tokenize)"
   ]
  },
  {
   "cell_type": "code",
   "execution_count": 11,
   "metadata": {
    "id": "c0FEEP5ANsHf"
   },
   "outputs": [],
   "source": [
    "scaler = MinMaxScaler()\n",
    "# Scaling the categories then replacing the old values\n",
    "df = final_df[['Bios']].join(pd.DataFrame(scaler.fit_transform(final_df.drop('Bios',axis=1)), \n",
    "                                          columns=final_df.columns[1:], index=final_df.index))"
   ]
  },
  {
   "cell_type": "code",
   "execution_count": 12,
   "metadata": {
    "colab": {
     "base_uri": "https://localhost:8080/",
     "height": 241
    },
    "id": "hGs-mNldNsE-",
    "outputId": "bcc0bf19-f5fd-47f7-fae7-536c125bf418"
   },
   "outputs": [
    {
     "data": {
      "text/html": [
       "<div>\n",
       "<style scoped>\n",
       "    .dataframe tbody tr th:only-of-type {\n",
       "        vertical-align: middle;\n",
       "    }\n",
       "\n",
       "    .dataframe tbody tr th {\n",
       "        vertical-align: top;\n",
       "    }\n",
       "\n",
       "    .dataframe thead th {\n",
       "        text-align: right;\n",
       "    }\n",
       "</style>\n",
       "<table border=\"1\" class=\"dataframe\">\n",
       "  <thead>\n",
       "    <tr style=\"text-align: right;\">\n",
       "      <th></th>\n",
       "      <th>Bios</th>\n",
       "      <th>Movies</th>\n",
       "      <th>TV</th>\n",
       "      <th>Religion</th>\n",
       "      <th>Music</th>\n",
       "      <th>Sports</th>\n",
       "      <th>Books</th>\n",
       "      <th>Politics</th>\n",
       "      <th>gender</th>\n",
       "    </tr>\n",
       "  </thead>\n",
       "  <tbody>\n",
       "    <tr>\n",
       "      <th>0</th>\n",
       "      <td>Problem solver. Award-winning bacon junkie. Professional travel expert. Web evangelist. Avid internet fan.</td>\n",
       "      <td>1.000000</td>\n",
       "      <td>1.0</td>\n",
       "      <td>0.714286</td>\n",
       "      <td>0.333333</td>\n",
       "      <td>0.4</td>\n",
       "      <td>0.166667</td>\n",
       "      <td>0.166667</td>\n",
       "      <td>0.0</td>\n",
       "    </tr>\n",
       "    <tr>\n",
       "      <th>1</th>\n",
       "      <td>Internet maven. Proud coffee advocate. Beer guru. Avid web expert. Food aficionado.</td>\n",
       "      <td>0.000000</td>\n",
       "      <td>0.0</td>\n",
       "      <td>1.000000</td>\n",
       "      <td>1.000000</td>\n",
       "      <td>1.0</td>\n",
       "      <td>1.000000</td>\n",
       "      <td>0.166667</td>\n",
       "      <td>0.0</td>\n",
       "    </tr>\n",
       "    <tr>\n",
       "      <th>2</th>\n",
       "      <td>Music scholar. Communicator. Entrepreneur. Analyst. Proud creator. Freelance zombie fanatic. Friendly travel maven.</td>\n",
       "      <td>1.000000</td>\n",
       "      <td>0.4</td>\n",
       "      <td>0.000000</td>\n",
       "      <td>0.500000</td>\n",
       "      <td>1.0</td>\n",
       "      <td>0.000000</td>\n",
       "      <td>0.000000</td>\n",
       "      <td>1.0</td>\n",
       "    </tr>\n",
       "    <tr>\n",
       "      <th>3</th>\n",
       "      <td>Analyst. Food fan. Incurable communicator. Coffee aficionado. Music expert. Beer specialist.</td>\n",
       "      <td>0.666667</td>\n",
       "      <td>0.8</td>\n",
       "      <td>0.428571</td>\n",
       "      <td>0.000000</td>\n",
       "      <td>0.0</td>\n",
       "      <td>0.666667</td>\n",
       "      <td>1.000000</td>\n",
       "      <td>1.0</td>\n",
       "    </tr>\n",
       "  </tbody>\n",
       "</table>\n",
       "</div>"
      ],
      "text/plain": [
       "                                                                                                                  Bios  ...  gender\n",
       "0           Problem solver. Award-winning bacon junkie. Professional travel expert. Web evangelist. Avid internet fan.  ...     0.0\n",
       "1                                  Internet maven. Proud coffee advocate. Beer guru. Avid web expert. Food aficionado.  ...     0.0\n",
       "2  Music scholar. Communicator. Entrepreneur. Analyst. Proud creator. Freelance zombie fanatic. Friendly travel maven.  ...     1.0\n",
       "3                         Analyst. Food fan. Incurable communicator. Coffee aficionado. Music expert. Beer specialist.  ...     1.0\n",
       "\n",
       "[4 rows x 9 columns]"
      ]
     },
     "execution_count": 12,
     "metadata": {
      "tags": []
     },
     "output_type": "execute_result"
    }
   ],
   "source": [
    "df.head()"
   ]
  },
  {
   "cell_type": "code",
   "execution_count": 13,
   "metadata": {
    "id": "PpqMapwFNsCU"
   },
   "outputs": [],
   "source": [
    "# Instantiating the Vectorizer\n",
    "vectorizer = CountVectorizer()\n",
    "#vectorizer = TfidfVectorizer()\n",
    "\n",
    "# Fitting the vectorizer to the Bios\n",
    "x = vectorizer.fit_transform(df['Bios'])\n",
    "\n",
    "# Creating a new DF that contains the vectorized words\n",
    "df_wrds = pd.DataFrame(x.toarray(), columns=vectorizer.get_feature_names())\n",
    "\n",
    "# Concating the words DF with the original DF\n",
    "new_df = pd.concat([df, df_wrds], axis=1)\n",
    "\n",
    "# Dropping the Bios because it is no longer needed in place of vectorization\n",
    "new_df.drop('Bios', axis=1, inplace=True)"
   ]
  },
  {
   "cell_type": "code",
   "execution_count": 14,
   "metadata": {
    "colab": {
     "base_uri": "https://localhost:8080/",
     "height": 193
    },
    "id": "T8GAVhXLNr_y",
    "outputId": "bcfabb05-650c-40a2-87e5-bf8728b80b06"
   },
   "outputs": [
    {
     "data": {
      "text/html": [
       "<div>\n",
       "<style scoped>\n",
       "    .dataframe tbody tr th:only-of-type {\n",
       "        vertical-align: middle;\n",
       "    }\n",
       "\n",
       "    .dataframe tbody tr th {\n",
       "        vertical-align: top;\n",
       "    }\n",
       "\n",
       "    .dataframe thead th {\n",
       "        text-align: right;\n",
       "    }\n",
       "</style>\n",
       "<table border=\"1\" class=\"dataframe\">\n",
       "  <thead>\n",
       "    <tr style=\"text-align: right;\">\n",
       "      <th></th>\n",
       "      <th>Movies</th>\n",
       "      <th>TV</th>\n",
       "      <th>Religion</th>\n",
       "      <th>Music</th>\n",
       "      <th>Sports</th>\n",
       "      <th>Books</th>\n",
       "      <th>Politics</th>\n",
       "      <th>gender</th>\n",
       "      <th>advocate</th>\n",
       "      <th>aficionado</th>\n",
       "      <th>analyst</th>\n",
       "      <th>avid</th>\n",
       "      <th>award</th>\n",
       "      <th>bacon</th>\n",
       "      <th>beer</th>\n",
       "      <th>coffee</th>\n",
       "      <th>communicator</th>\n",
       "      <th>creator</th>\n",
       "      <th>entrepreneur</th>\n",
       "      <th>evangelist</th>\n",
       "      <th>expert</th>\n",
       "      <th>fan</th>\n",
       "      <th>fanatic</th>\n",
       "      <th>food</th>\n",
       "      <th>freelance</th>\n",
       "      <th>friendly</th>\n",
       "      <th>guru</th>\n",
       "      <th>incurable</th>\n",
       "      <th>internet</th>\n",
       "      <th>junkie</th>\n",
       "      <th>maven</th>\n",
       "      <th>music</th>\n",
       "      <th>problem</th>\n",
       "      <th>professional</th>\n",
       "      <th>proud</th>\n",
       "      <th>scholar</th>\n",
       "      <th>solver</th>\n",
       "      <th>specialist</th>\n",
       "      <th>travel</th>\n",
       "      <th>web</th>\n",
       "      <th>winning</th>\n",
       "      <th>zombie</th>\n",
       "    </tr>\n",
       "  </thead>\n",
       "  <tbody>\n",
       "    <tr>\n",
       "      <th>0</th>\n",
       "      <td>1.000000</td>\n",
       "      <td>1.0</td>\n",
       "      <td>0.714286</td>\n",
       "      <td>0.333333</td>\n",
       "      <td>0.4</td>\n",
       "      <td>0.166667</td>\n",
       "      <td>0.166667</td>\n",
       "      <td>0.0</td>\n",
       "      <td>0</td>\n",
       "      <td>0</td>\n",
       "      <td>0</td>\n",
       "      <td>1</td>\n",
       "      <td>1</td>\n",
       "      <td>1</td>\n",
       "      <td>0</td>\n",
       "      <td>0</td>\n",
       "      <td>0</td>\n",
       "      <td>0</td>\n",
       "      <td>0</td>\n",
       "      <td>1</td>\n",
       "      <td>1</td>\n",
       "      <td>1</td>\n",
       "      <td>0</td>\n",
       "      <td>0</td>\n",
       "      <td>0</td>\n",
       "      <td>0</td>\n",
       "      <td>0</td>\n",
       "      <td>0</td>\n",
       "      <td>1</td>\n",
       "      <td>1</td>\n",
       "      <td>0</td>\n",
       "      <td>0</td>\n",
       "      <td>1</td>\n",
       "      <td>1</td>\n",
       "      <td>0</td>\n",
       "      <td>0</td>\n",
       "      <td>1</td>\n",
       "      <td>0</td>\n",
       "      <td>1</td>\n",
       "      <td>1</td>\n",
       "      <td>1</td>\n",
       "      <td>0</td>\n",
       "    </tr>\n",
       "    <tr>\n",
       "      <th>1</th>\n",
       "      <td>0.000000</td>\n",
       "      <td>0.0</td>\n",
       "      <td>1.000000</td>\n",
       "      <td>1.000000</td>\n",
       "      <td>1.0</td>\n",
       "      <td>1.000000</td>\n",
       "      <td>0.166667</td>\n",
       "      <td>0.0</td>\n",
       "      <td>1</td>\n",
       "      <td>1</td>\n",
       "      <td>0</td>\n",
       "      <td>1</td>\n",
       "      <td>0</td>\n",
       "      <td>0</td>\n",
       "      <td>1</td>\n",
       "      <td>1</td>\n",
       "      <td>0</td>\n",
       "      <td>0</td>\n",
       "      <td>0</td>\n",
       "      <td>0</td>\n",
       "      <td>1</td>\n",
       "      <td>0</td>\n",
       "      <td>0</td>\n",
       "      <td>1</td>\n",
       "      <td>0</td>\n",
       "      <td>0</td>\n",
       "      <td>1</td>\n",
       "      <td>0</td>\n",
       "      <td>1</td>\n",
       "      <td>0</td>\n",
       "      <td>1</td>\n",
       "      <td>0</td>\n",
       "      <td>0</td>\n",
       "      <td>0</td>\n",
       "      <td>1</td>\n",
       "      <td>0</td>\n",
       "      <td>0</td>\n",
       "      <td>0</td>\n",
       "      <td>0</td>\n",
       "      <td>1</td>\n",
       "      <td>0</td>\n",
       "      <td>0</td>\n",
       "    </tr>\n",
       "    <tr>\n",
       "      <th>2</th>\n",
       "      <td>1.000000</td>\n",
       "      <td>0.4</td>\n",
       "      <td>0.000000</td>\n",
       "      <td>0.500000</td>\n",
       "      <td>1.0</td>\n",
       "      <td>0.000000</td>\n",
       "      <td>0.000000</td>\n",
       "      <td>1.0</td>\n",
       "      <td>0</td>\n",
       "      <td>0</td>\n",
       "      <td>1</td>\n",
       "      <td>0</td>\n",
       "      <td>0</td>\n",
       "      <td>0</td>\n",
       "      <td>0</td>\n",
       "      <td>0</td>\n",
       "      <td>1</td>\n",
       "      <td>1</td>\n",
       "      <td>1</td>\n",
       "      <td>0</td>\n",
       "      <td>0</td>\n",
       "      <td>0</td>\n",
       "      <td>1</td>\n",
       "      <td>0</td>\n",
       "      <td>1</td>\n",
       "      <td>1</td>\n",
       "      <td>0</td>\n",
       "      <td>0</td>\n",
       "      <td>0</td>\n",
       "      <td>0</td>\n",
       "      <td>1</td>\n",
       "      <td>1</td>\n",
       "      <td>0</td>\n",
       "      <td>0</td>\n",
       "      <td>1</td>\n",
       "      <td>1</td>\n",
       "      <td>0</td>\n",
       "      <td>0</td>\n",
       "      <td>1</td>\n",
       "      <td>0</td>\n",
       "      <td>0</td>\n",
       "      <td>1</td>\n",
       "    </tr>\n",
       "    <tr>\n",
       "      <th>3</th>\n",
       "      <td>0.666667</td>\n",
       "      <td>0.8</td>\n",
       "      <td>0.428571</td>\n",
       "      <td>0.000000</td>\n",
       "      <td>0.0</td>\n",
       "      <td>0.666667</td>\n",
       "      <td>1.000000</td>\n",
       "      <td>1.0</td>\n",
       "      <td>0</td>\n",
       "      <td>1</td>\n",
       "      <td>1</td>\n",
       "      <td>0</td>\n",
       "      <td>0</td>\n",
       "      <td>0</td>\n",
       "      <td>1</td>\n",
       "      <td>1</td>\n",
       "      <td>1</td>\n",
       "      <td>0</td>\n",
       "      <td>0</td>\n",
       "      <td>0</td>\n",
       "      <td>1</td>\n",
       "      <td>1</td>\n",
       "      <td>0</td>\n",
       "      <td>1</td>\n",
       "      <td>0</td>\n",
       "      <td>0</td>\n",
       "      <td>0</td>\n",
       "      <td>1</td>\n",
       "      <td>0</td>\n",
       "      <td>0</td>\n",
       "      <td>0</td>\n",
       "      <td>1</td>\n",
       "      <td>0</td>\n",
       "      <td>0</td>\n",
       "      <td>0</td>\n",
       "      <td>0</td>\n",
       "      <td>0</td>\n",
       "      <td>1</td>\n",
       "      <td>0</td>\n",
       "      <td>0</td>\n",
       "      <td>0</td>\n",
       "      <td>0</td>\n",
       "    </tr>\n",
       "  </tbody>\n",
       "</table>\n",
       "</div>"
      ],
      "text/plain": [
       "     Movies   TV  Religion     Music  ...  travel  web  winning  zombie\n",
       "0  1.000000  1.0  0.714286  0.333333  ...       1    1        1       0\n",
       "1  0.000000  0.0  1.000000  1.000000  ...       0    1        0       0\n",
       "2  1.000000  0.4  0.000000  0.500000  ...       1    0        0       1\n",
       "3  0.666667  0.8  0.428571  0.000000  ...       0    0        0       0\n",
       "\n",
       "[4 rows x 42 columns]"
      ]
     },
     "execution_count": 14,
     "metadata": {
      "tags": []
     },
     "output_type": "execute_result"
    }
   ],
   "source": [
    "new_df.head()"
   ]
  },
  {
   "cell_type": "code",
   "execution_count": 15,
   "metadata": {
    "colab": {
     "base_uri": "https://localhost:8080/"
    },
    "id": "fteeNttjNr6s",
    "outputId": "5829a19c-889f-4d63-c97d-8508c92fa69d"
   },
   "outputs": [
    {
     "data": {
      "text/plain": [
       "(4, 42)"
      ]
     },
     "execution_count": 15,
     "metadata": {
      "tags": []
     },
     "output_type": "execute_result"
    }
   ],
   "source": [
    "new_df.shape"
   ]
  },
  {
   "cell_type": "code",
   "execution_count": 16,
   "metadata": {
    "colab": {
     "base_uri": "https://localhost:8080/"
    },
    "id": "KNfi__k3Nr26",
    "outputId": "f8ae48e5-4bf8-4cda-da46-9fc9a324c394"
   },
   "outputs": [
    {
     "name": "stdout",
     "output_type": "stream",
     "text": [
      "Top similar users to User # 1 \n",
      "\n",
      "          1\n",
      "1  1.000000\n",
      "3  0.029021\n",
      "0 -0.125833\n",
      "2 -0.309592\n",
      "\n",
      "The most similar user to User # 1 is User # 3\n"
     ]
    }
   ],
   "source": [
    "# Finding Correlations among the users\n",
    "corr_group = new_df.T.corr()\n",
    "\n",
    "# Finding the Similar Users\n",
    "# Randomly selecting a user\n",
    "random_user = random.choice(corr_group.index)\n",
    "\n",
    "print(\"Top similar users to User #\", random_user, '\\n')\n",
    "\n",
    "# Creating a df with the most similar users to the selected user\n",
    "top_sim = corr_group[[random_user]].sort_values(by=[random_user],axis=0, ascending=False)\n",
    "\n",
    "# Printing out the results\n",
    "print(top_sim)\n",
    "\n",
    "print(\"\\nThe most similar user to User #\", random_user, \"is User #\", top_sim.index[1])"
   ]
  },
  {
   "cell_type": "markdown",
   "metadata": {
    "id": "KD4aOMJPPwzc"
   },
   "source": [
    "# Q. How ML model can be integrated with the backend of a Flutter App?"
   ]
  },
  {
   "cell_type": "markdown",
   "metadata": {
    "id": "q6lxKSB1Q98d"
   },
   "source": [
    "# Answer. This can be integrated with the backend of flutter app by either creating and hosting a web API Service (say using Flask) and calling the API service from flutter application to fetch the result. On the other hand I can use firebase_ml_custom plugin to manage hosting the model and downloading it to user's device. "
   ]
  },
  {
   "cell_type": "code",
   "execution_count": null,
   "metadata": {},
   "outputs": [],
   "source": []
  }
 ],
 "metadata": {
  "colab": {
   "collapsed_sections": [],
   "name": "Dating_app.ipynb",
   "provenance": []
  },
  "kernelspec": {
   "display_name": "Python 3",
   "language": "python",
   "name": "python3"
  },
  "language_info": {
   "codemirror_mode": {
    "name": "ipython",
    "version": 3
   },
   "file_extension": ".py",
   "mimetype": "text/x-python",
   "name": "python",
   "nbconvert_exporter": "python",
   "pygments_lexer": "ipython3",
   "version": "3.6.6"
  }
 },
 "nbformat": 4,
 "nbformat_minor": 1
}
